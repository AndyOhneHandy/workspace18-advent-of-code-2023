{
 "cells": [
  {
   "cell_type": "code",
   "execution_count": 11,
   "metadata": {},
   "outputs": [],
   "source": [
    "#########################\n",
    "# Advent of Code 2023   #\n",
    "# Day 6                 #\n",
    "#########################\n",
    "\n",
    "import math\n",
    "\n",
    "# Time:        42     68     69     85\n",
    "# Distance:   284   1005   1122   1341\n",
    "\n",
    "races = [[42,284],[68,1005],[69,1122],[85,1341]]"
   ]
  },
  {
   "cell_type": "code",
   "execution_count": 12,
   "metadata": {},
   "outputs": [
    {
     "name": "stdout",
     "output_type": "stream",
     "text": [
      "Part 1: 440000\n"
     ]
    }
   ],
   "source": [
    "# Part 1\n",
    "def abc_formula(a,b,c):\n",
    "    return (-b-(b**2-4*a*c)**0.5)/2*a, (-b+(b**2-4*a*c)**0.5)/2*a\n",
    "\n",
    "def find_nullpoints(time, distance):\n",
    "    # -1 x Button^2 + Time x Button - Distance = 0\n",
    "    a = -1\n",
    "    b = time\n",
    "    c = -distance\n",
    "    x1,x2 = abc_formula(a,b,c)\n",
    "    x1 = math.ceil(x1)\n",
    "    x2 = math.ceil(x2)\n",
    "\n",
    "    return abs(x1-x2)\n",
    "\n",
    "\n",
    "outcome = 1\n",
    "for race in races:\n",
    "    time = race[0]\n",
    "    distance = race[1]\n",
    "    possibilities = find_nullpoints(time, distance)\n",
    "    outcome = outcome * possibilities\n",
    "\n",
    "print(f\"Part 1: {outcome}\")\n"
   ]
  },
  {
   "cell_type": "code",
   "execution_count": 13,
   "metadata": {},
   "outputs": [
    {
     "name": "stdout",
     "output_type": "stream",
     "text": [
      "Part 2: 26187338\n"
     ]
    }
   ],
   "source": [
    "# Part 2\n",
    "race = [42686985, 284100511221341]\n",
    "\n",
    "print(f\"Part 2: {find_nullpoints(race[0], race[1])}\")"
   ]
  }
 ],
 "metadata": {
  "kernelspec": {
   "display_name": "Python 3",
   "language": "python",
   "name": "python3"
  },
  "language_info": {
   "codemirror_mode": {
    "name": "ipython",
    "version": 3
   },
   "file_extension": ".py",
   "mimetype": "text/x-python",
   "name": "python",
   "nbconvert_exporter": "python",
   "pygments_lexer": "ipython3",
   "version": "3.8.10"
  }
 },
 "nbformat": 4,
 "nbformat_minor": 2
}
