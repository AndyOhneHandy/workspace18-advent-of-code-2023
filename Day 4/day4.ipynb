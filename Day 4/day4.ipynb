{
 "cells": [
  {
   "cell_type": "code",
   "execution_count": 80,
   "metadata": {},
   "outputs": [],
   "source": [
    "#########################\n",
    "# Advent of Code 2023   #\n",
    "# Day 4                 #\n",
    "#########################\n",
    "\n",
    "file = open(\"input_4_23.txt\",\"r\")\n",
    "text = file.read()\n",
    "data = text.split(\"\\n\")\n",
    "data = [x.split(\": \")[1] for x in data if x]\n",
    "data = [x.split(\" | \") for x in data]\n",
    "data = [[x[0].split(), x[1].split()] for x in data]\n",
    "\n",
    "# [    GAME1 --> [[WINNERS][NUMBERS]],   GAME2 --> [[WINNERS][NUMBERS]]   ...   ]"
   ]
  },
  {
   "cell_type": "code",
   "execution_count": 81,
   "metadata": {},
   "outputs": [
    {
     "name": "stdout",
     "output_type": "stream",
     "text": [
      "Part 1: 22897\n"
     ]
    }
   ],
   "source": [
    "# Part 1\n",
    "\n",
    "def calc_points(winning_no_indexes):\n",
    "    if len(winning_no_indexes) > 0:\n",
    "        return 2**(len(winning_no_indexes)-1)\n",
    "    else:\n",
    "        return 0\n",
    "\n",
    "def find_points(winners, numbers):\n",
    "    winner_indexes = []\n",
    "    for i,n in enumerate(numbers):\n",
    "        if n in winners:\n",
    "            winner_indexes += [i]\n",
    "    return calc_points(winner_indexes)\n",
    "\n",
    "all_points = 0\n",
    "for game in data:\n",
    "    all_points += find_points(game[0],game[1])\n",
    "\n",
    "print(f\"Part 1: {all_points}\")"
   ]
  },
  {
   "cell_type": "code",
   "execution_count": 96,
   "metadata": {},
   "outputs": [
    {
     "name": "stdout",
     "output_type": "stream",
     "text": [
      "Part 2: 5095824\n"
     ]
    }
   ],
   "source": [
    "# Part 2\n",
    "game_dict = {\n",
    "}\n",
    "\n",
    "def find_points_p2(winners, numbers):\n",
    "    winner_indexes = []\n",
    "    for i,n in enumerate(numbers):\n",
    "        if n in winners:\n",
    "            winner_indexes += [i]\n",
    "    return len(winner_indexes)\n",
    "\n",
    "for index, a in enumerate(data):\n",
    "    game_dict.update({index:1})\n",
    "\n",
    "#\n",
    "    \n",
    "for index, game in enumerate(data):\n",
    "    if index in game_dict:\n",
    "        no_of_cards = game_dict[index]\n",
    "        wins = find_points_p2(game[0],game[1])\n",
    "\n",
    "        cards_won = list(range(index+1, index+1+wins))\n",
    "\n",
    "        for winner in cards_won:\n",
    "            if winner in game_dict:\n",
    "                game_dict[winner] += no_of_cards\n",
    "            else:\n",
    "                game_dict.update({winner:no_of_cards})\n",
    "    \n",
    "    else:\n",
    "        break\n",
    "\n",
    "output2 = 0\n",
    "for key, item in game_dict.items():\n",
    "    output2 += item\n",
    "\n",
    "print(f\"Part 2: {output2}\")\n"
   ]
  }
 ],
 "metadata": {
  "kernelspec": {
   "display_name": "Python 3",
   "language": "python",
   "name": "python3"
  },
  "language_info": {
   "codemirror_mode": {
    "name": "ipython",
    "version": 3
   },
   "file_extension": ".py",
   "mimetype": "text/x-python",
   "name": "python",
   "nbconvert_exporter": "python",
   "pygments_lexer": "ipython3",
   "version": "3.8.10"
  }
 },
 "nbformat": 4,
 "nbformat_minor": 2
}
