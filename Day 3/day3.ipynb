{
 "cells": [
  {
   "cell_type": "code",
   "execution_count": 67,
   "metadata": {},
   "outputs": [],
   "source": [
    "#########################\n",
    "# Advent of Code 2023   #\n",
    "# Day 3                 #\n",
    "#########################\n",
    "\n",
    "file = open(\"input_3_23.txt\",\"r\")\n",
    "text = file.read()\n",
    "data = text.split(\"\\n\")\n",
    "data = [list(s) for s in data]\n",
    "data = [x for x in data if x]"
   ]
  },
  {
   "cell_type": "code",
   "execution_count": 70,
   "metadata": {},
   "outputs": [
    {
     "name": "stdout",
     "output_type": "stream",
     "text": [
      "Part 1: 539637\n"
     ]
    }
   ],
   "source": [
    "# return coordinates of all adjacent items\n",
    "def return_coords(row, index, length, rowstart = 0, rowend = 139, indexstart = 0, indexend = 139):\n",
    "    coords = []\n",
    "\n",
    "    coords += [row, index-1], [row, index + length],\n",
    "\n",
    "    for a in list(range(index-1, index + length + 1)):\n",
    "        coords += [[row+1, a]]\n",
    "        coords += [[row-1, a]]\n",
    "    \n",
    "    coords = [a for a in coords if a[0]>=rowstart and a[0]<=rowend and a[1]>=indexstart and a[1]<=indexend]\n",
    "\n",
    "    return coords\n",
    "\n",
    "# check if adjacent items\n",
    "def check_coords(coordlist):\n",
    "    outcomes = []\n",
    "    for coord in coordlist:\n",
    "        outcomes += [data[coord[0]][coord[1]] != \".\"]\n",
    "    return True in outcomes\n",
    "\n",
    "# Recognize numbers\n",
    "indexend = len(data[1])\n",
    "output1 = 0\n",
    "for row, items in enumerate(data):\n",
    "    block = []\n",
    "    for index, i in enumerate(items):\n",
    "        if index not in block:\n",
    "            if i.isdigit():\n",
    "                currentno = [i]\n",
    "                add = 1\n",
    "                if index + add < indexend:\n",
    "                    while items[index+add].isdigit():\n",
    "                        currentno += items[index+add]\n",
    "                        block += [index+add]\n",
    "                        add += 1\n",
    "                        if index + add >= indexend:\n",
    "                            break\n",
    "                \n",
    "\n",
    "                number = int(\"\".join(currentno))\n",
    "                length = len(currentno)\n",
    "                if check_coords(return_coords(row, index, length)):\n",
    "                    output1 += number\n",
    "\n",
    "print(f\"Part 1: {output1}\")\n"
   ]
  }
 ],
 "metadata": {
  "kernelspec": {
   "display_name": "Python 3",
   "language": "python",
   "name": "python3"
  },
  "language_info": {
   "codemirror_mode": {
    "name": "ipython",
    "version": 3
   },
   "file_extension": ".py",
   "mimetype": "text/x-python",
   "name": "python",
   "nbconvert_exporter": "python",
   "pygments_lexer": "ipython3",
   "version": "3.8.10"
  }
 },
 "nbformat": 4,
 "nbformat_minor": 2
}
