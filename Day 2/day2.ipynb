{
 "cells": [
  {
   "cell_type": "code",
   "execution_count": 9,
   "metadata": {},
   "outputs": [],
   "source": [
    "#########################\n",
    "# Advent of Code 2023   #\n",
    "# Day 1                 #\n",
    "#########################\n",
    "\n",
    "file = open(\"input_2_23.txt\",\"r\")\n",
    "text = file.read()\n",
    "data = text.split(\"\\n\")\n",
    "data = [x.split(\": \")[1] for x in data if x]"
   ]
  },
  {
   "cell_type": "code",
   "execution_count": 24,
   "metadata": {},
   "outputs": [
    {
     "name": "stdout",
     "output_type": "stream",
     "text": [
      "Part 1: 2204\n",
      "Part 2: 71036\n"
     ]
    }
   ],
   "source": [
    "# Part 1 & 2\n",
    "\n",
    "def check_ok(game, rmax = 12, gmax = 13, bmax = 14):\n",
    "    \n",
    "    game_info =  {\n",
    "        \"red\" : 0,\n",
    "        \"green\" : 0,\n",
    "        \"blue\" : 0,\n",
    "    }\n",
    "\n",
    "    for draw in game:\n",
    "        for color in draw:\n",
    "            nr_col = color.split(\" \")\n",
    "            if int(nr_col[0]) > game_info[nr_col[1]]:\n",
    "                game_info[nr_col[1]] = int(nr_col[0])\n",
    "    \n",
    "    return game_info[\"red\"]<= rmax and game_info[\"green\"]<= gmax and game_info[\"blue\"]<= bmax, game_info[\"red\"]*game_info[\"green\"]*game_info[\"blue\"]\n",
    "\n",
    "output1 = 0\n",
    "output2 = 0\n",
    "for index,d in enumerate(data):\n",
    "    d = d.split(\"; \")\n",
    "    d = [a.split(\", \") for a in d]\n",
    "    one, two = check_ok(d)\n",
    "    if one:\n",
    "        output1 += 1+index\n",
    "    output2 += two\n",
    "\n",
    "print(f\"Part 1: {output1}\")\n",
    "print(f\"Part 2: {output2}\")\n",
    "\n",
    "\n",
    "\n"
   ]
  }
 ],
 "metadata": {
  "kernelspec": {
   "display_name": "Python 3",
   "language": "python",
   "name": "python3"
  },
  "language_info": {
   "codemirror_mode": {
    "name": "ipython",
    "version": 3
   },
   "file_extension": ".py",
   "mimetype": "text/x-python",
   "name": "python",
   "nbconvert_exporter": "python",
   "pygments_lexer": "ipython3",
   "version": "3.8.10"
  }
 },
 "nbformat": 4,
 "nbformat_minor": 2
}
