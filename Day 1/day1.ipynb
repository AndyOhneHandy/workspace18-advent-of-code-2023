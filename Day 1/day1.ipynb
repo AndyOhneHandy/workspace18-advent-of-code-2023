{
 "cells": [
  {
   "cell_type": "code",
   "execution_count": 87,
   "metadata": {},
   "outputs": [],
   "source": [
    "#########################\n",
    "# Advent of Code 2023   #\n",
    "# Day 1                 #\n",
    "#########################\n",
    "import re\n",
    "\n",
    "file = open(\"input_1_23.txt\",\"r\")\n",
    "text = file.read()\n",
    "data = text.split(\"\\n\")\n",
    "data = [x for x in data if x]"
   ]
  },
  {
   "cell_type": "code",
   "execution_count": 91,
   "metadata": {},
   "outputs": [
    {
     "name": "stdout",
     "output_type": "stream",
     "text": [
      "Part 1: 53194\n",
      "Part 2: 54249\n"
     ]
    }
   ],
   "source": [
    "# Part 1\n",
    "def getoutput(data):\n",
    "    outputlist = []\n",
    "    for s in data:\n",
    "        onlynumbers = [int(a) for a in list(s) if a in [\"0\",\"1\",\"2\",\"3\",\"4\",\"5\",\"6\",\"7\",\"8\",\"9\",]]\n",
    "        value = onlynumbers[0]*10 + onlynumbers[-1]\n",
    "        outputlist += [value]\n",
    "        \n",
    "    return sum(outputlist)\n",
    "    \n",
    "print(f\"Part 1: {getoutput(data)}\")\n",
    "\n",
    "# Part 2\n",
    "\n",
    "# Modify data\n",
    "numbers = {\n",
    "    \"one\": \"1\",\n",
    "    \"two\": \"2\",\n",
    "    \"three\": \"3\",\n",
    "    \"four\": \"4\",\n",
    "    \"five\": \"5\",\n",
    "    \"six\": \"6\",\n",
    "    \"seven\": \"7\",\n",
    "    \"eight\": \"8\",\n",
    "    \"nine\": \"9\",\n",
    "\n",
    "}\n",
    "\n",
    "\n",
    "def modifydata(data, numbers):\n",
    "    newdata = []\n",
    "    for s in data:\n",
    "        for key, item in numbers.items():\n",
    "            if key in s:\n",
    "                s = s.replace(key, item)\n",
    "        newdata += [s]\n",
    "    \n",
    "    return(newdata)\n",
    "\n",
    "def modifydata_correct(data, numbers):\n",
    "    newdata = []\n",
    "    for s in data:\n",
    "        position_list = []\n",
    "        for key, item in numbers.items():\n",
    "            position_list += [[m.start(0),item] for m in re.finditer(key,s)]\n",
    "\n",
    "        s = list(s)\n",
    "        for i in position_list:\n",
    "            s[i[0]] = i[1]\n",
    "        \n",
    "\n",
    "        newdata += [\"\".join(s)]\n",
    "    return newdata\n",
    "\n",
    "\n",
    "print(f\"Part 2: {getoutput(modifydata_correct(data, numbers))}\")"
   ]
  }
 ],
 "metadata": {
  "kernelspec": {
   "display_name": "Python 3",
   "language": "python",
   "name": "python3"
  },
  "language_info": {
   "codemirror_mode": {
    "name": "ipython",
    "version": 3
   },
   "file_extension": ".py",
   "mimetype": "text/x-python",
   "name": "python",
   "nbconvert_exporter": "python",
   "pygments_lexer": "ipython3",
   "version": "3.8.10"
  }
 },
 "nbformat": 4,
 "nbformat_minor": 2
}
