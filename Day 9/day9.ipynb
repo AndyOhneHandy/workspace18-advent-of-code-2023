{
 "cells": [
  {
   "cell_type": "code",
   "execution_count": 56,
   "metadata": {},
   "outputs": [],
   "source": [
    "#########################\n",
    "# Advent of Code 2023   #\n",
    "# Day 9                 #\n",
    "#########################\n",
    "\n",
    "file = open(\"input_9_23.txt\",\"r\")\n",
    "text = file.read()\n",
    "data = text.split(\"\\n\")\n",
    "data = [x for x in data if x]\n",
    "data = [x.split(\" \") for x in data]\n",
    "data = [list(map(int, x)) for x in data]"
   ]
  },
  {
   "cell_type": "code",
   "execution_count": 57,
   "metadata": {},
   "outputs": [
    {
     "name": "stdout",
     "output_type": "stream",
     "text": [
      "Part 1: 1934898178\n"
     ]
    }
   ],
   "source": [
    "# Part 1\n",
    "\n",
    "def extrapolate(sequence):\n",
    "    seqs = [sequence]\n",
    "    current_seq = seqs[0]\n",
    "    while not all(x == 0 for x in current_seq):\n",
    "        temp_seq = []\n",
    "        for i, v in enumerate(current_seq):\n",
    "            if i == len(current_seq)-1:\n",
    "                break\n",
    "            temp_seq += [current_seq[i+1] - v]\n",
    "        current_seq = temp_seq\n",
    "        seqs.insert(0,current_seq)\n",
    "    return(seqs)\n",
    "\n",
    "def predict(sequence):\n",
    "    all_seqs = extrapolate(sequence)\n",
    "\n",
    "    for i,seq in enumerate(all_seqs[1:]):\n",
    "        all_seqs[i+1] += [seq[-1] + all_seqs[i][-1]]\n",
    "    \n",
    "    return all_seqs[-1][-1]\n",
    "\n",
    "\n",
    "output1 = 0\n",
    "\n",
    "for sequence in data:\n",
    "    output1 += predict(sequence)\n",
    "\n",
    "print(f\"Part 1: {output1}\")"
   ]
  },
  {
   "cell_type": "code",
   "execution_count": 58,
   "metadata": {},
   "outputs": [
    {
     "name": "stdout",
     "output_type": "stream",
     "text": [
      "Part 2: 1129\n"
     ]
    }
   ],
   "source": [
    "# Part 2\n",
    "\n",
    "def predict2(sequence):\n",
    "    all_seqs = extrapolate(sequence)\n",
    "    for i,seq in enumerate(all_seqs[1:]):\n",
    "        all_seqs[i+1].insert(0, seq[0] - all_seqs[i][0])\n",
    "\n",
    "    return all_seqs[-1][0]\n",
    "\n",
    "\n",
    "output2 = 0\n",
    "\n",
    "for sequence in data:\n",
    "    output2 += predict2(sequence)\n",
    "\n",
    "print(f\"Part 2: {output2}\")"
   ]
  }
 ],
 "metadata": {
  "kernelspec": {
   "display_name": "Python 3",
   "language": "python",
   "name": "python3"
  },
  "language_info": {
   "codemirror_mode": {
    "name": "ipython",
    "version": 3
   },
   "file_extension": ".py",
   "mimetype": "text/x-python",
   "name": "python",
   "nbconvert_exporter": "python",
   "pygments_lexer": "ipython3",
   "version": "3.8.10"
  }
 },
 "nbformat": 4,
 "nbformat_minor": 2
}
