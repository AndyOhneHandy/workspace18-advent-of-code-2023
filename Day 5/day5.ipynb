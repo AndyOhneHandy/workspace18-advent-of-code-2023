{
 "cells": [
  {
   "cell_type": "code",
   "execution_count": 81,
   "metadata": {},
   "outputs": [],
   "source": [
    "#########################\n",
    "# Advent of Code 2023   #\n",
    "# Day 5                 #\n",
    "#########################\n",
    "\n",
    "file = open(\"input_5_23.txt\",\"r\")\n",
    "text = file.read()\n",
    "\n",
    "data = text.split(\"seed-to-soil map:\")\n",
    "\n",
    "seeds = ''.join(data[0].split('\\n')).split(' ')[1:]\n",
    "seeds = [int(seed) for seed in seeds]\n",
    "\n",
    "data = data[1].split(\"\\nsoil-to-fertilizer map:\")\n",
    "seed_to_soil = [x for x in data[0].split(\"\\n\") if x]\n",
    "seed_to_soil = [x.split(\" \") for x in seed_to_soil]\n",
    "\n",
    "data = data[1].split(\"\\nfertilizer-to-water map:\")\n",
    "soil_to_fertilizer = [x for x in data[0].split(\"\\n\") if x]\n",
    "soil_to_fertilizer = [x.split(\" \") for x in soil_to_fertilizer]\n",
    "\n",
    "data = data[1].split(\"\\nwater-to-light map:\")\n",
    "fertilizer_to_water = [x for x in data[0].split(\"\\n\") if x]\n",
    "fertilizer_to_water = [x.split(\" \") for x in fertilizer_to_water]\n",
    "\n",
    "data = data[1].split(\"\\nlight-to-temperature map:\")\n",
    "water_to_light = [x for x in data[0].split(\"\\n\") if x]\n",
    "water_to_light = [x.split(\" \") for x in water_to_light]\n",
    "\n",
    "data = data[1].split(\"\\ntemperature-to-humidity map:\")\n",
    "light_to_temperature = [x for x in data[0].split(\"\\n\") if x]\n",
    "light_to_temperature = [x.split(\" \") for x in light_to_temperature]\n",
    "\n",
    "data = data[1].split(\"\\nhumidity-to-location map:\")\n",
    "temperature_to_humidity = [x for x in data[0].split(\"\\n\") if x]\n",
    "temperature_to_humidity = [x.split(\" \") for x in temperature_to_humidity]\n",
    "\n",
    "humidity_to_location = [x for x in data[1].split(\"\\n\") if x]\n",
    "humidity_to_location = [x.split(\" \") for x in humidity_to_location]\n",
    "\n"
   ]
  },
  {
   "cell_type": "code",
   "execution_count": 82,
   "metadata": {},
   "outputs": [
    {
     "name": "stdout",
     "output_type": "stream",
     "text": [
      "Part 1: 175622908\n"
     ]
    }
   ],
   "source": [
    "# Part 1\n",
    "def create_mapping_dict(mapping_info):\n",
    "    temp_dict = {\n",
    "    }\n",
    "    #[SOURCE START, SOURCE END, DESTINATION START]\n",
    "    for i,element in enumerate(mapping_info):\n",
    "        dest = int(element[0])\n",
    "        source = int(element[1])\n",
    "        rangelgth = int(element[2])\n",
    "        temp_dict.update({i:[source,source+rangelgth-1,dest]})\n",
    "    \n",
    "    return temp_dict\n",
    "\n",
    "def find_destination(mapping_list, source):\n",
    "    output = None\n",
    "    if source >= mapping_list[0] and source <= mapping_list[1]:\n",
    "        output = mapping_list[2] + source - mapping_list[0]\n",
    "    return output\n",
    "\n",
    "\n",
    "all_mapping_stuff = {\n",
    "    'ss': seed_to_soil,\n",
    "    'sf': soil_to_fertilizer,\n",
    "    'fw': fertilizer_to_water,\n",
    "    'wl': water_to_light,\n",
    "    'lt': light_to_temperature,\n",
    "    'th': temperature_to_humidity,\n",
    "    'hl': humidity_to_location,\n",
    "}\n",
    "\n",
    "keylist = [keys for keys in all_mapping_stuff]\n",
    "\n",
    "\n",
    "\n",
    "for key, item in all_mapping_stuff.items():\n",
    "    all_mapping_stuff.update({key:create_mapping_dict(item)})\n",
    "\n",
    "locations = []\n",
    "for seed in seeds:\n",
    "    location = seed\n",
    "    for i, step in all_mapping_stuff.items():\n",
    "        for i, info in step.items():\n",
    "            opt = find_destination(info, location)\n",
    "            if opt != None:\n",
    "                location = opt\n",
    "                break\n",
    "    locations += [location]\n",
    "\n",
    "print(f\"Part 1: {min(locations)}\")"
   ]
  },
  {
   "cell_type": "code",
   "execution_count": 83,
   "metadata": {},
   "outputs": [
    {
     "name": "stdout",
     "output_type": "stream",
     "text": [
      "[42566461, 256584102, 669731009, 1482445116, 2086168596, 2369242654, 2887351536, 3040181568, 3210489476, 4018529087]\n"
     ]
    }
   ],
   "source": [
    "# Part 2:\n",
    "seedsnew = []\n",
    "\n",
    "for i in range(0, len(seeds), 2):\n",
    "    sublist = seeds[i:i+2]\n",
    "    seedsnew += [sublist]\n",
    "\n",
    "seedsnew\n",
    "\n",
    "seedsfinal = []\n",
    "for i in seedsnew:\n",
    "    seedsfinal += [i[0]]\n",
    "    #seedsfinal += list(range(i[0], i[0]+i[1]))\n",
    "seedsfinal.sort()\n",
    "print(seedsfinal)"
   ]
  },
  {
   "cell_type": "code",
   "execution_count": 84,
   "metadata": {},
   "outputs": [
    {
     "data": {
      "text/plain": [
       "[99, 100, 101, 102]"
      ]
     },
     "execution_count": 84,
     "metadata": {},
     "output_type": "execute_result"
    }
   ],
   "source": [
    "list(range(99,99+4))"
   ]
  }
 ],
 "metadata": {
  "kernelspec": {
   "display_name": "Python 3",
   "language": "python",
   "name": "python3"
  },
  "language_info": {
   "codemirror_mode": {
    "name": "ipython",
    "version": 3
   },
   "file_extension": ".py",
   "mimetype": "text/x-python",
   "name": "python",
   "nbconvert_exporter": "python",
   "pygments_lexer": "ipython3",
   "version": "3.8.10"
  }
 },
 "nbformat": 4,
 "nbformat_minor": 2
}
