{
 "cells": [
  {
   "cell_type": "code",
   "execution_count": 1,
   "metadata": {},
   "outputs": [],
   "source": [
    "#########################\n",
    "# Advent of Code 2023   #\n",
    "# Day 5                 #\n",
    "#########################\n",
    "\n",
    "file = open(\"input_5_23.txt\",\"r\")\n",
    "text = file.read()\n",
    "\n",
    "data = text.split(\"seed-to-soil map:\")\n",
    "\n",
    "seeds = ''.join(data[0].split('\\n')).split(' ')[1:]\n",
    "seeds = [int(seed) for seed in seeds]\n",
    "\n",
    "data = data[1].split(\"\\nsoil-to-fertilizer map:\")\n",
    "seed_to_soil = [x for x in data[0].split(\"\\n\") if x]\n",
    "seed_to_soil = [x.split(\" \") for x in seed_to_soil]\n",
    "\n",
    "data = data[1].split(\"\\nfertilizer-to-water map:\")\n",
    "soil_to_fertilizer = [x for x in data[0].split(\"\\n\") if x]\n",
    "soil_to_fertilizer = [x.split(\" \") for x in soil_to_fertilizer]\n",
    "\n",
    "data = data[1].split(\"\\nwater-to-light map:\")\n",
    "fertilizer_to_water = [x for x in data[0].split(\"\\n\") if x]\n",
    "fertilizer_to_water = [x.split(\" \") for x in fertilizer_to_water]\n",
    "\n",
    "data = data[1].split(\"\\nlight-to-temperature map:\")\n",
    "water_to_light = [x for x in data[0].split(\"\\n\") if x]\n",
    "water_to_light = [x.split(\" \") for x in water_to_light]\n",
    "\n",
    "data = data[1].split(\"\\ntemperature-to-humidity map:\")\n",
    "light_to_temperature = [x for x in data[0].split(\"\\n\") if x]\n",
    "light_to_temperature = [x.split(\" \") for x in light_to_temperature]\n",
    "\n",
    "data = data[1].split(\"\\nhumidity-to-location map:\")\n",
    "temperature_to_humidity = [x for x in data[0].split(\"\\n\") if x]\n",
    "temperature_to_humidity = [x.split(\" \") for x in temperature_to_humidity]\n",
    "\n",
    "humidity_to_location = [x for x in data[1].split(\"\\n\") if x]\n",
    "humidity_to_location = [x.split(\" \") for x in humidity_to_location]\n",
    "\n"
   ]
  },
  {
   "cell_type": "code",
   "execution_count": 2,
   "metadata": {},
   "outputs": [
    {
     "name": "stdout",
     "output_type": "stream",
     "text": [
      "Part 1: 175622908\n"
     ]
    }
   ],
   "source": [
    "# Part 1\n",
    "def create_mapping_dict(mapping_info):\n",
    "    temp_dict = {\n",
    "    }\n",
    "    #[SOURCE START, SOURCE END, DESTINATION START]\n",
    "    for i,element in enumerate(mapping_info):\n",
    "        dest = int(element[0])\n",
    "        source = int(element[1])\n",
    "        rangelgth = int(element[2])\n",
    "        temp_dict.update({i:[source,source+rangelgth-1,dest]})\n",
    "    \n",
    "    return temp_dict\n",
    "\n",
    "def find_destination(mapping_list, source):\n",
    "    output = None\n",
    "    if source >= mapping_list[0] and source <= mapping_list[1]:\n",
    "        output = mapping_list[2] + source - mapping_list[0]\n",
    "    return output\n",
    "\n",
    "\n",
    "all_mapping_stuff = {\n",
    "    'ss': seed_to_soil,\n",
    "    'sf': soil_to_fertilizer,\n",
    "    'fw': fertilizer_to_water,\n",
    "    'wl': water_to_light,\n",
    "    'lt': light_to_temperature,\n",
    "    'th': temperature_to_humidity,\n",
    "    'hl': humidity_to_location,\n",
    "}\n",
    "\n",
    "keylist = [keys for keys in all_mapping_stuff]\n",
    "\n",
    "\n",
    "\n",
    "for key, item in all_mapping_stuff.items():\n",
    "    all_mapping_stuff.update({key:create_mapping_dict(item)})\n",
    "\n",
    "locations = []\n",
    "for seed in seeds:\n",
    "    location = seed\n",
    "    for i, step in all_mapping_stuff.items():\n",
    "        for i, info in step.items():\n",
    "            opt = find_destination(info, location)\n",
    "            if opt != None:\n",
    "                location = opt\n",
    "                break\n",
    "    locations += [location]\n",
    "\n",
    "print(f\"Part 1: {min(locations)}\")"
   ]
  },
  {
   "cell_type": "code",
   "execution_count": 3,
   "metadata": {},
   "outputs": [
    {
     "ename": "KeyboardInterrupt",
     "evalue": "",
     "output_type": "error",
     "traceback": [
      "\u001b[0;31m---------------------------------------------------------------------------\u001b[0m",
      "\u001b[0;31mKeyboardInterrupt\u001b[0m                         Traceback (most recent call last)",
      "\u001b[0;32m/tmp/ipykernel_7997/1408393585.py\u001b[0m in \u001b[0;36m<module>\u001b[0;34m\u001b[0m\n\u001b[1;32m     14\u001b[0m         \u001b[0;32mfor\u001b[0m \u001b[0mi\u001b[0m\u001b[0;34m,\u001b[0m \u001b[0mstep\u001b[0m \u001b[0;32min\u001b[0m \u001b[0mall_mapping_stuff\u001b[0m\u001b[0;34m.\u001b[0m\u001b[0mitems\u001b[0m\u001b[0;34m(\u001b[0m\u001b[0;34m)\u001b[0m\u001b[0;34m:\u001b[0m\u001b[0;34m\u001b[0m\u001b[0;34m\u001b[0m\u001b[0m\n\u001b[1;32m     15\u001b[0m             \u001b[0;32mfor\u001b[0m \u001b[0mi\u001b[0m\u001b[0;34m,\u001b[0m \u001b[0minfo\u001b[0m \u001b[0;32min\u001b[0m \u001b[0mstep\u001b[0m\u001b[0;34m.\u001b[0m\u001b[0mitems\u001b[0m\u001b[0;34m(\u001b[0m\u001b[0;34m)\u001b[0m\u001b[0;34m:\u001b[0m\u001b[0;34m\u001b[0m\u001b[0;34m\u001b[0m\u001b[0m\n\u001b[0;32m---> 16\u001b[0;31m                 \u001b[0mopt\u001b[0m \u001b[0;34m=\u001b[0m \u001b[0mfind_destination\u001b[0m\u001b[0;34m(\u001b[0m\u001b[0minfo\u001b[0m\u001b[0;34m,\u001b[0m \u001b[0mlocation\u001b[0m\u001b[0;34m)\u001b[0m\u001b[0;34m\u001b[0m\u001b[0;34m\u001b[0m\u001b[0m\n\u001b[0m\u001b[1;32m     17\u001b[0m                 \u001b[0;32mif\u001b[0m \u001b[0mopt\u001b[0m \u001b[0;34m!=\u001b[0m \u001b[0;32mNone\u001b[0m\u001b[0;34m:\u001b[0m\u001b[0;34m\u001b[0m\u001b[0;34m\u001b[0m\u001b[0m\n\u001b[1;32m     18\u001b[0m                     \u001b[0mlocation\u001b[0m \u001b[0;34m=\u001b[0m \u001b[0mopt\u001b[0m\u001b[0;34m\u001b[0m\u001b[0;34m\u001b[0m\u001b[0m\n",
      "\u001b[0;32m/tmp/ipykernel_7997/2841142278.py\u001b[0m in \u001b[0;36mfind_destination\u001b[0;34m(mapping_list, source)\u001b[0m\n\u001b[1;32m     12\u001b[0m     \u001b[0;32mreturn\u001b[0m \u001b[0mtemp_dict\u001b[0m\u001b[0;34m\u001b[0m\u001b[0;34m\u001b[0m\u001b[0m\n\u001b[1;32m     13\u001b[0m \u001b[0;34m\u001b[0m\u001b[0m\n\u001b[0;32m---> 14\u001b[0;31m \u001b[0;32mdef\u001b[0m \u001b[0mfind_destination\u001b[0m\u001b[0;34m(\u001b[0m\u001b[0mmapping_list\u001b[0m\u001b[0;34m,\u001b[0m \u001b[0msource\u001b[0m\u001b[0;34m)\u001b[0m\u001b[0;34m:\u001b[0m\u001b[0;34m\u001b[0m\u001b[0;34m\u001b[0m\u001b[0m\n\u001b[0m\u001b[1;32m     15\u001b[0m     \u001b[0moutput\u001b[0m \u001b[0;34m=\u001b[0m \u001b[0;32mNone\u001b[0m\u001b[0;34m\u001b[0m\u001b[0;34m\u001b[0m\u001b[0m\n\u001b[1;32m     16\u001b[0m     \u001b[0;32mif\u001b[0m \u001b[0msource\u001b[0m \u001b[0;34m>=\u001b[0m \u001b[0mmapping_list\u001b[0m\u001b[0;34m[\u001b[0m\u001b[0;36m0\u001b[0m\u001b[0;34m]\u001b[0m \u001b[0;32mand\u001b[0m \u001b[0msource\u001b[0m \u001b[0;34m<=\u001b[0m \u001b[0mmapping_list\u001b[0m\u001b[0;34m[\u001b[0m\u001b[0;36m1\u001b[0m\u001b[0;34m]\u001b[0m\u001b[0;34m:\u001b[0m\u001b[0;34m\u001b[0m\u001b[0;34m\u001b[0m\u001b[0m\n",
      "\u001b[0;31mKeyboardInterrupt\u001b[0m: "
     ]
    }
   ],
   "source": [
    "# Part 2:\n",
    "seedsnew = []\n",
    "\n",
    "for i in range(0, len(seeds), 2):\n",
    "    sublist = seeds[i:i+2]\n",
    "    seedsnew += [sublist]\n",
    "\n",
    "seedsnew\n",
    "\n",
    "location_output = 999999999999999999999999999\n",
    "for i in seedsnew:\n",
    "    for seed in range(i[0], i[0]+i[1]):\n",
    "        location = seed\n",
    "        for i, step in all_mapping_stuff.items():\n",
    "            for i, info in step.items():\n",
    "                opt = find_destination(info, location)\n",
    "                if opt != None:\n",
    "                    location = opt\n",
    "                    break   \n",
    "            if location <= location_output:\n",
    "                location_output = location\n",
    "\n",
    "\n",
    "print(f\"Part 2: {location_output}\")"
   ]
  },
  {
   "cell_type": "code",
   "execution_count": null,
   "metadata": {},
   "outputs": [
    {
     "data": {
      "text/plain": [
       "[99, 100, 101, 102]"
      ]
     },
     "execution_count": 84,
     "metadata": {},
     "output_type": "execute_result"
    }
   ],
   "source": [
    "list(range(99,99+4))"
   ]
  },
  {
   "cell_type": "code",
   "execution_count": 4,
   "metadata": {},
   "outputs": [
    {
     "name": "stdout",
     "output_type": "stream",
     "text": [
      "0\n"
     ]
    }
   ],
   "source": [
    "print(location_output)"
   ]
  }
 ],
 "metadata": {
  "kernelspec": {
   "display_name": "Python 3",
   "language": "python",
   "name": "python3"
  },
  "language_info": {
   "codemirror_mode": {
    "name": "ipython",
    "version": 3
   },
   "file_extension": ".py",
   "mimetype": "text/x-python",
   "name": "python",
   "nbconvert_exporter": "python",
   "pygments_lexer": "ipython3",
   "version": "3.8.10"
  }
 },
 "nbformat": 4,
 "nbformat_minor": 2
}
